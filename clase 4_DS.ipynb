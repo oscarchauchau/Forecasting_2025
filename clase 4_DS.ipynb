{
 "cells": [
  {
   "cell_type": "code",
   "execution_count": 126,
   "id": "984008f0-648f-406c-a26c-6db16e7fa37d",
   "metadata": {},
   "outputs": [
    {
     "name": "stdout",
     "output_type": "stream",
     "text": [
      " Leyendo archivo Parquet...\n",
      "\n",
      " Duración promedio del viaje: 12.91 minutos\n"
     ]
    }
   ],
   "source": [
    "import pandas as pd\n",
    "import requests\n",
    "import os\n",
    "\n",
    "# Descargar archivo si no existe\n",
    "file_url = \"https://d37ci6vzurychx.cloudfront.net/trip-data/yellow_tripdata_2022-01.parquet\"\n",
    "file_name = \"yellow_tripdata_2022-01.parquet\"\n",
    "\n",
    "\n",
    "# Leer archivo Parquet con pandas\n",
    "print(\" Leyendo archivo Parquet...\")\n",
    "df = pd.read_parquet(file_name, engine=\"pyarrow\")\n",
    "\n",
    "# Calcular duración del viaje en minutos\n",
    "df[\"duracion_min\"] = (df[\"tpep_dropoff_datetime\"] - df[\"tpep_pickup_datetime\"]).dt.total_seconds() / 60\n",
    "df = df[(df[\"duracion_min\"] > 1) & (df[\"duracion_min\"] < 180)]  # eliminar extremos\n",
    "\n",
    "# Calcular promedio\n",
    "duracion_media = df[\"duracion_min\"].mean()\n",
    "\n",
    "\n",
    "print(f\"\\n Duración promedio del viaje: {duracion_media:.2f} minutos\")"
   ]
  },
  {
   "cell_type": "code",
   "execution_count": 110,
   "id": "8880a1ad-1dfc-4f25-a52f-0fe02f36a60d",
   "metadata": {},
   "outputs": [
    {
     "data": {
      "text/plain": [
       "<dask.config.set at 0x2ab810eb2f0>"
      ]
     },
     "execution_count": 110,
     "metadata": {},
     "output_type": "execute_result"
    }
   ],
   "source": [
    "import dask\n",
    "dask.config.set(scheduler='single-threaded')\n",
    "\n"
   ]
  },
  {
   "cell_type": "code",
   "execution_count": 130,
   "id": "d027748f-9dde-497d-91e2-0e2d203cff36",
   "metadata": {},
   "outputs": [
    {
     "name": "stdout",
     "output_type": "stream",
     "text": [
      "📊 Leyendo archivo con Dask...\n"
     ]
    },
    {
     "name": "stderr",
     "output_type": "stream",
     "text": [
      "C:\\Users\\jorge\\anaconda3\\Lib\\site-packages\\dask\\base.py:1541: UserWarning: Running on a single-machine scheduler when a distributed client is active might lead to unexpected results.\n",
      "  warnings.warn(\n"
     ]
    },
    {
     "name": "stdout",
     "output_type": "stream",
     "text": [
      "\n",
      " Duración promedio del viaje (0.1% muestra): 13.11 minutos\n"
     ]
    }
   ],
   "source": [
    "import dask\n",
    "import dask.dataframe as dd\n",
    "import requests\n",
    "import os\n",
    "\n",
    "# Forzar Dask a usar un solo hilo (sin cluster)\n",
    "dask.config.set(scheduler='single-threaded')\n",
    "\n",
    "# ------------------------\n",
    "# Paso 1: Descargar archivo Parquet si no existe\n",
    "# ------------------------\n",
    "file_url = \"https://d37ci6vzurychx.cloudfront.net/trip-data/yellow_tripdata_2022-01.parquet\"\n",
    "file_name = \"yellow_tripdata_2022-01.parquet\"\n",
    "\n",
    "\n",
    "\n",
    "# ------------------------\n",
    "# Paso 2: Leer archivo Parquet con Dask\n",
    "# ------------------------\n",
    "print(\"📊 Leyendo archivo con Dask...\")\n",
    "df = dd.read_parquet(file_name, engine=\"pyarrow\", split_row_groups=True)\n",
    "\n",
    "# ------------------------\n",
    "# Paso 3: Tomar muestra pequeña para evitar cuelgues\n",
    "# ------------------------\n",
    "df_sample = df.sample(frac=0.001)\n",
    "\n",
    "# ------------------------\n",
    "# Paso 4: Calcular duración del viaje\n",
    "# ------------------------\n",
    "df_sample[\"duracion_min\"] = (df_sample[\"tpep_dropoff_datetime\"] - df_sample[\"tpep_pickup_datetime\"]).dt.total_seconds() / 60\n",
    "df_sample = df_sample[(df_sample[\"duracion_min\"] > 1) & (df_sample[\"duracion_min\"] < 180)]\n",
    "\n",
    "# ------------------------\n",
    "# Paso 5: Calcular media\n",
    "# ------------------------\n",
    "duracion_promedio = df_sample[\"duracion_min\"].mean().compute()\n",
    "\n",
    "print(f\"\\n Duración promedio del viaje (0.1% muestra): {duracion_promedio:.2f} minutos\")\n"
   ]
  }
 ],
 "metadata": {
  "kernelspec": {
   "display_name": "Python [conda env:base] *",
   "language": "python",
   "name": "conda-base-py"
  },
  "language_info": {
   "codemirror_mode": {
    "name": "ipython",
    "version": 3
   },
   "file_extension": ".py",
   "mimetype": "text/x-python",
   "name": "python",
   "nbconvert_exporter": "python",
   "pygments_lexer": "ipython3",
   "version": "3.12.7"
  }
 },
 "nbformat": 4,
 "nbformat_minor": 5
}
